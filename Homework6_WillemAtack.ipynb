{
 "cells": [
  {
   "cell_type": "markdown",
   "metadata": {},
   "source": [
    "Sources Used:\n",
    "\n",
    "To build implementation of RNN/GRU models: https://notebook.community/spro/practical-pytorch/char-rnn-generation/char-rnn-generation\n",
    "\n",
    "\n",
    "Where I got textfile for Q4: https://nbcsportsgrouppressbox.com/2016/08/31/transcript-football-night-in-america-broadcast-team-previews-2016-nfl-season/"
   ]
  },
  {
   "cell_type": "markdown",
   "metadata": {},
   "source": [
    "# Homework 6\n",
    "\n",
    "In this homework you will be training and using a \"char-RNN\". This is the name given to a character-level recurrent neural network language model by [this famous blog post by Andrej Karpathy](http://karpathy.github.io/2015/05/21/rnn-effectiveness/). Before you start on the rest of the homework, please give the blog post a read, it's quite good!\n",
    "\n",
    "I don't expect you to implement the char-RNN from scratch. Andrej's original char-rnn is in Torch (the predecessor to PyTorch that is not commonly used anymore). Fortunately, there are many other implementations of this model available; for example, there is one (in both mxnet and pytorch) in chapters 8 and 9 of [the textbook](http://d2l.ai), and another pytorch one [here](https://github.com/spro/char-rnn.pytorch). **Please use one of these example implementations (or another one that you find) when completing this homework**.\n",
    "\n",
    "For this homework, please complete the following steps:\n",
    "\n",
    "1. Download and tokenize the [Shakespeare dataset](http://www.gutenberg.org/files/100/100-0.txt) at a character level. I recommend basing your solution on the following code:\n",
    "```Python\n",
    "# Remove non-alphabetical characters, lowercase, and replace whitespace with ' '\n",
    "raw_dataset = ' '.join(re.sub('[^A-Za-z ]+', '', text).lower().split())\n",
    "# Maps token index to character\n",
    "idx_to_char = list(set(raw_dataset))\n",
    "# Maps character to token index\n",
    "char_to_idx = dict([(char, i) for i, char in enumerate(idx_to_char)])\n",
    "# Tokenize the dataset\n",
    "corpus_indices = [char_to_idx[char] for char in raw_dataset]\n",
    "```\n",
    "1. Train a \"vanilla\" RNN (as described in chapter 9 of [the textbook](http://d2l.ai)) on the Shakespeare dataset. Report the training loss and generate some samples from the model at the end of training.\n",
    "1. Train a GRU RNN (as described in chapter 10 of [the textbook](http://d2l.ai)) on the Shakespeare datatset. Is the final training loss higher or lower than the vanilla RNN? Are the samples from the model more or less realistic?\n",
    "1. Find a smaller, simpler dataset than the Shakespeare data (you can find some ideas in Andrej's blog post, but feel free to get creative!) and train either the vanilla or GRU RNN on it instead. Is the final training loss higher or lower than it was for the Shakespeare data?m"
   ]
  },
  {
   "cell_type": "markdown",
   "metadata": {},
   "source": [
    "Question 1:"
   ]
  },
  {
   "cell_type": "code",
   "execution_count": 1,
   "metadata": {
    "colab": {
     "base_uri": "https://localhost:8080/",
     "height": 349
    },
    "id": "nUYgAUCPIMtM",
    "outputId": "94df20f0-5553-4fa1-c4f9-78360dcce52c"
   },
   "outputs": [],
   "source": [
    "import numpy as np\n",
    "import re as re\n",
    "import torch\n",
    "from torch.autograd import Variable\n",
    "import torch.nn as nn\n",
    "import torch.nn.functional as F\n",
    "import torch.optim as optim\n",
    "import string\n",
    "\n",
    "\n",
    "filename = 'shakespeare.txt'\n",
    "with open(filename, encoding=\"utf8\") as f:\n",
    "    text = f.read()\n",
    "\n",
    "raw_dataset = ' '.join(re.sub('[^A-Za-z ]+', '', text).lower().split())\n",
    "idx_to_char = list(set(raw_dataset))\n",
    "char_to_idx = dict([(char, i) for i, char in enumerate(idx_to_char)])\n",
    "text_idx = [char_to_idx[char] for char in raw_dataset]\n",
    "n_characters = len(idx_to_char)\n",
    "\n",
    "text_len = len(text_idx)"
   ]
  },
  {
   "cell_type": "markdown",
   "metadata": {},
   "source": [
    "Question 2:"
   ]
  },
  {
   "cell_type": "code",
   "execution_count": 2,
   "metadata": {},
   "outputs": [],
   "source": [
    "chunk_len = 200\n",
    "\n",
    "def random_chunk():\n",
    "    start_index = np.random.randint(0, text_len - chunk_len)\n",
    "    end_index = start_index + chunk_len + 1\n",
    "    return text_idx[start_index:end_index]\n"
   ]
  },
  {
   "cell_type": "code",
   "execution_count": 3,
   "metadata": {},
   "outputs": [],
   "source": [
    "import torch\n",
    "import torch.nn as nn\n",
    "from torch.autograd import Variable\n",
    "\n",
    "class RNN(nn.Module):\n",
    "    def __init__(self, input_size, hidden_size, output_size, n_layers=1):\n",
    "        super(RNN, self).__init__()\n",
    "        self.input_size = input_size\n",
    "        self.hidden_size = hidden_size\n",
    "        self.output_size = output_size\n",
    "        self.n_layers = n_layers\n",
    "\n",
    "        ## Instead of using a one-hot encoding, use a nn.Embedding\n",
    "        self.encoder = nn.Embedding(input_size, hidden_size)\n",
    "        self.rnn = nn.RNN(hidden_size, hidden_size, n_layers)\n",
    "        self.decoder = nn.Linear(hidden_size, output_size)\n",
    "    \n",
    "    def forward(self, input, hidden):\n",
    "        input = self.encoder(input.view(1, -1))\n",
    "        output, hidden = self.rnn(input.view(1, 1, -1), hidden)\n",
    "        output = self.decoder(output.view(1, -1))\n",
    "        return output, hidden\n",
    "\n",
    "    def init_hidden(self):\n",
    "        return Variable(torch.zeros(self.n_layers, 1, self.hidden_size))"
   ]
  },
  {
   "cell_type": "code",
   "execution_count": 4,
   "metadata": {},
   "outputs": [],
   "source": [
    "def char_tensor(string):\n",
    "    tensor = torch.zeros(len(string)).long()\n",
    "    for c in range(len(string)):\n",
    "        tensor[c] = string[c]\n",
    "    return Variable(tensor)"
   ]
  },
  {
   "cell_type": "code",
   "execution_count": 5,
   "metadata": {},
   "outputs": [],
   "source": [
    "def random_training_set():    \n",
    "    chunk = random_chunk()\n",
    "    inp = char_tensor(chunk[:-1])\n",
    "    target = char_tensor(chunk[1:])\n",
    "    return inp, target"
   ]
  },
  {
   "cell_type": "code",
   "execution_count": 6,
   "metadata": {},
   "outputs": [],
   "source": [
    "def evaluate(prime_str='A', predict_len=100, temperature=0.8):\n",
    "    hidden = decoder.init_hidden()\n",
    "    prime_input = char_tensor(prime_str)\n",
    "    predicted = prime_str\n",
    "\n",
    "    # Use priming string to \"build up\" hidden state\n",
    "    for p in range(len(prime_str) - 1):\n",
    "        _, hidden = decoder(prime_input[p], hidden)\n",
    "    inp = prime_input[-1]\n",
    "    \n",
    "    for p in range(predict_len):\n",
    "        output, hidden = decoder(inp, hidden)\n",
    "        \n",
    "        # Sample from the network as a multinomial distribution\n",
    "        output_dist = output.data.view(-1).div(temperature).exp()\n",
    "        top_i = torch.multinomial(output_dist, 1)[0]\n",
    "        \n",
    "        \n",
    "        # Add predicted character to string and use as next input\n",
    "        predicted_char = top_i.item()\n",
    "        predicted.append(predicted_char)\n",
    "        inp = torch.tensor([predicted_char])\n",
    "\n",
    "    return predicted"
   ]
  },
  {
   "cell_type": "code",
   "execution_count": 7,
   "metadata": {},
   "outputs": [],
   "source": [
    "def train(inp, target):\n",
    "    hidden = decoder.init_hidden()\n",
    "    decoder.zero_grad()\n",
    "    loss = 0\n",
    "\n",
    "    for c in range(chunk_len):\n",
    "        output, hidden = decoder(inp[c], hidden)\n",
    "        tar = torch.tensor([target[c].item()])\n",
    "        loss += criterion(output, tar)\n",
    "\n",
    "    loss.backward()\n",
    "    decoder_optimizer.step()\n",
    "\n",
    "    return loss / chunk_len"
   ]
  },
  {
   "cell_type": "code",
   "execution_count": 8,
   "metadata": {},
   "outputs": [
    {
     "name": "stdout",
     "output_type": "stream",
     "text": [
      "[(100 2%) 2.3322]\n",
      "whestears chat door mysiass to the of no thercelestor shar ingecliemond the sousconsy pronce this shy  \n",
      "\n",
      "[(200 4%) 2.1726]\n",
      "whatlormance ale sumso the of bakt se and and thes forger primporshond you dowes and will an then dart \n",
      "\n",
      "[(300 6%) 2.3979]\n",
      "whe lowhid thyt he partiongrhaven i wat handfour th bet hen ithtiit cong louth wat for thou coun aghan \n",
      "\n",
      "[(400 8%) 2.0424]\n",
      "whel the drray bomy he muck like to gret forthrucold wond not my and sithin and moll ford grould to he \n",
      "\n",
      "[(500 10%) 2.0293]\n",
      "wherisedite the morn not hy cantch my lord of herinewhod him doonderf not our you wheo housewor cold y \n",
      "\n",
      "[(600 12%) 1.8458]\n",
      "what they be there in him the not at there in for soment and do and this and strence sumies and bearf  \n",
      "\n",
      "[(700 14%) 1.9764]\n",
      "why and me thy ligh a jessure seever of some aband doung him thou dose roms i whicks out have in mosel \n",
      "\n",
      "[(800 16%) 2.1962]\n",
      "whald in but evandis not entletimitthere bromusend donget couss a gounglestean i this el theace i save \n",
      "\n",
      "[(900 18%) 2.1752]\n",
      "wher cone not cown this hour an sake as the lusto forry lordand havand thou and hen dod ming manes sha \n",
      "\n",
      "[(1000 20%) 2.1817]\n",
      "what the cotethe keant the to erversire the spanding their endiellet and gpeeder dead with and peoprec \n",
      "\n",
      "[(1100 22%) 1.9285]\n",
      "where you be have shall not woy to daving my love the mait not mows acter not the seedro thouch saimen \n",
      "\n",
      "[(1200 24%) 2.0553]\n",
      "wheile us to their to comer my lartand fath neveseancoblet to queen hi though dread be shall fatite sw \n",
      "\n",
      "[(1300 26%) 2.1009]\n",
      "which is not thy tine that us ampuss that fa me the dart and that ning and the beard thot a this not h \n",
      "\n",
      "[(1400 28%) 1.8665]\n",
      "where know cells herd cing dead on the hear of in the luck come by you and jent soldemensand and cante \n",
      "\n",
      "[(1500 30%) 1.8843]\n",
      "wher were and livialliter spee the like there when word the pring pardon of the statethis sir cont she \n",
      "\n",
      "[(1600 32%) 2.0319]\n",
      "what pritwe it the the march ill is thou shour be should is thou some of a bration lonca i whin here i \n",
      "\n",
      "[(1700 34%) 1.9433]\n",
      "what refter scruck me kind in me and mares in mice will brilestrese firs sheet spood threand which to  \n",
      "\n",
      "[(1800 36%) 2.0419]\n",
      "whet oliant be shy lay should not father such from a bly pastor herses by beforthe fath of compooth fa \n",
      "\n",
      "[(1900 38%) 1.8144]\n",
      "whith me as all shosad leart i since you the be kith the waubt i of a what shall i his he not with a b \n",
      "\n",
      "[(2000 40%) 1.8479]\n",
      "what a hath samemon the langere pooth the was the wordsge houk of there offland worce o waibem proto t \n",
      "\n",
      "[(2100 42%) 1.8792]\n",
      "where you you sum placks gowerishish sbeed you the spates i sbeeciowhle my long skear lasthou to bouls \n",
      "\n",
      "[(2200 44%) 2.4248]\n",
      "whell forgraweis i deselftise i lordmade should trowsach of thanking nonydeed from surethere trike the \n",
      "\n",
      "[(2300 46%) 1.8114]\n",
      "whoh i agaland not there rike in speed sod to avens let would your well must your aspee the feak the n \n",
      "\n",
      "[(2400 48%) 1.8752]\n",
      "who my not in in a hould the love i withtho notsome fort in here thou thou will me his reself so lord  \n",
      "\n",
      "[(2500 50%) 1.7474]\n",
      "when and from of i will my more the a saint it i that finds sighthink to so it with of extos thus them \n",
      "\n",
      "[(2600 52%) 1.8242]\n",
      "what svoses seemany of on thered falleventer gentle and upon with and with a gatlels the strongremblai \n",
      "\n",
      "[(2700 54%) 1.7365]\n",
      "what with ferchold will the forti but set offewnit so be i cusperpofit gother i will of the cken a sa  \n",
      "\n",
      "[(2800 56%) 1.9264]\n",
      "who gives and in the glopet is befo of she ber tam thy hore see sing a so and but that thou heart as t \n",
      "\n",
      "[(2900 57%) 1.8408]\n",
      "what with us have then with mistetimed defore of that ken levers a bound with with upis theaken your p \n",
      "\n",
      "[(3000 60%) 1.8288]\n",
      "whit iiesio we this command the perepeot tainto loovis prace tay hath and and somen of hewed thee heir \n",
      "\n",
      "[(3100 62%) 1.8298]\n",
      "whithougive in i deasti braylial for taild you reself for will with of of throur comns your with it to \n",
      "\n",
      "[(3200 64%) 1.9080]\n",
      "when would live make in sous havh will thee saye rep to her mareand no in to that coum i and takese yo \n",
      "\n",
      "[(3300 66%) 1.9940]\n",
      "who be now doy doma me in courther him must pha men stid foll a celove a weest yet son love heard the  \n",
      "\n",
      "[(3400 68%) 1.9539]\n",
      "whom chile nord come to forth hels that shalthy thee the for deses courdhar the thy cue haukif got and \n",
      "\n",
      "[(3500 70%) 1.9426]\n",
      "who to alphoth that alaring a kneas seem so the fatiestis so yrougire you a frinure the for groicelare \n",
      "\n",
      "[(3600 72%) 1.8610]\n",
      "whit sicred and there monyall within so live the very thy dotigantild and cons the so asart i comes of \n",
      "\n",
      "[(3700 74%) 1.9751]\n",
      "whearus much of whan were that i feare in been it margentle othiatitonchere then arcust is is ho cove  \n",
      "\n",
      "[(3800 76%) 2.0099]\n",
      "what vill to pall not you mind that the have the not the mine anysly viceshought her stresst poold hav \n",
      "\n",
      "[(3900 78%) 1.8814]\n",
      "why strith her richer should well must such the quwhichmy meat but loce greatht grown walatuspordings  \n",
      "\n",
      "[(4000 80%) 1.9167]\n",
      "wholand his sound have bethat did the be my notso booth to sone then it for i with the father bays wit \n",
      "\n",
      "[(4100 82%) 1.9058]\n",
      "which somead exitethought as the to mosten me that for of the pray him my that are have i shoom confor \n",
      "\n",
      "[(4200 84%) 1.9976]\n",
      "what i him all beg and mood the worthe heir love are to a conhasts lealt and he this nuping to he come \n",
      "\n",
      "[(4300 86%) 1.7751]\n",
      "what your were doth your do youse your shall servanted then withen boanted of time suck you luce she y \n",
      "\n",
      "[(4400 88%) 1.9355]\n",
      "what in his tall gone offffriermenamonest it callento liad to to and i dengarians mank of thy here ada \n",
      "\n",
      "[(4500 90%) 1.8616]\n",
      "when your all the brut find linged a choolechouty conter i am s me prits for me atall i know harn to t \n",
      "\n",
      "[(4600 92%) 1.8583]\n",
      "whou coust prounds his was gent as to our have war gration i did and courselxcent anstaftice head the  \n",
      "\n",
      "[(4700 94%) 1.8467]\n",
      "wheece theseray my that and whonethe doth nobright whese may the thou art to lafferils oldle andbredir \n",
      "\n",
      "[(4800 96%) 2.0407]\n",
      "why deso good pothere viets lade mock speaksile hure maday and rester think the aganton the good but h \n",
      "\n",
      "[(4900 98%) 1.8546]\n",
      "when fault are thou have how withound all spatin him sturtonfirless warry struth toses a enreiffat tho \n",
      "\n",
      "[(5000 100%) 1.8324]\n",
      "what is thus an the and to must sheenorguay doniscome my it the comblaugon dal father came blace and l \n",
      "\n"
     ]
    }
   ],
   "source": [
    "n_epochs = 5000\n",
    "print_every = 100\n",
    "plot_every = 10\n",
    "hidden_size = 100\n",
    "n_layers = 1\n",
    "lr = 0.005\n",
    "\n",
    "decoder = RNN(n_characters, hidden_size, n_characters, n_layers)\n",
    "decoder_optimizer = torch.optim.Adam (decoder.parameters(), lr=lr)\n",
    "criterion = nn.CrossEntropyLoss()\n",
    "\n",
    "all_losses = []\n",
    "loss_avg = 0\n",
    "\n",
    "for epoch in range(1, n_epochs + 1):\n",
    "    loss = train(*random_training_set())       \n",
    "    loss_avg += loss\n",
    "\n",
    "    if epoch % print_every == 0:\n",
    "        print('[(%d %d%%) %.4f]' % (epoch, epoch / n_epochs * 100, loss))\n",
    "        starting_text = [int(char_to_idx[char]) for char in \"wh\"]\n",
    "        encoded_text = evaluate(starting_text, 100)\n",
    "        decoded_text = [idx_to_char[encoded_text[i]] for i in range(len(encoded_text))]\n",
    "        print(''.join([str(element) for element in decoded_text]), \"\\n\")\n",
    "\n",
    "    if epoch % plot_every == 0:\n",
    "        \n",
    "        all_losses.append(loss_avg / plot_every)\n",
    "        loss_avg = 0"
   ]
  },
  {
   "cell_type": "code",
   "execution_count": 9,
   "metadata": {},
   "outputs": [],
   "source": [
    "def sample_text(starting_text, length, temp):\n",
    "    test = evaluate([char_to_idx[starting_text[i]] for i in range(len(starting_text))], length, temp)\n",
    "    test1 = [idx_to_char[test[i]] for i in range(len(test))]\n",
    "    readableTest = ''.join([str(element) for element in test1 ])\n",
    "    print(readableTest)\n",
    "    return None"
   ]
  },
  {
   "cell_type": "markdown",
   "metadata": {},
   "source": [
    "Here are some examples. While not every word is English and it doesn't make any sense (just like the original plays ;) ), the model seems to learn short English words, and many words present in Shakespeare plays seem to be here"
   ]
  },
  {
   "cell_type": "code",
   "execution_count": 10,
   "metadata": {},
   "outputs": [
    {
     "name": "stdout",
     "output_type": "stream",
     "text": [
      "the king and the door and the gantter the boneside despool the favoppainions well the wome body his all and to not to lord a do sayed the sing to be to the to the the so with tent the in the but in some not s\n"
     ]
    }
   ],
   "source": [
    "sample_text(\"the king\", 200, 0.5)"
   ]
  },
  {
   "cell_type": "code",
   "execution_count": 11,
   "metadata": {},
   "outputs": [
    {
     "name": "stdout",
     "output_type": "stream",
     "text": [
      "shall not that the king and the so to emanneydo mastiees throughthe and the call the lich and and the man befor as the to but place had from to you gone in to do deat so a and to the and the mate to to you all\n"
     ]
    }
   ],
   "source": [
    "sample_text(\"shall not\", 200, 0.5)"
   ]
  },
  {
   "cell_type": "code",
   "execution_count": 12,
   "metadata": {},
   "outputs": [
    {
     "name": "stdout",
     "output_type": "stream",
     "text": [
      "thou and me the king and body the had praces in the be all the so the a come is the man in the earter the fall the good an in the blayorguingel surge the mast in the so in and a the mable my and in to to \n"
     ]
    }
   ],
   "source": [
    "sample_text(\"thou\", 200, 0.5)"
   ]
  },
  {
   "cell_type": "code",
   "execution_count": 13,
   "metadata": {},
   "outputs": [
    {
     "name": "stdout",
     "output_type": "stream",
     "text": [
      "hast is tent the the both refore the malce to you am to do so thou and hand the sir the do to my lord flood the and trange the lady with the do a king deservervout so the count the come to in and in be yo\n"
     ]
    }
   ],
   "source": [
    "sample_text(\"hast\", 200, 0.5)"
   ]
  },
  {
   "cell_type": "code",
   "execution_count": 14,
   "metadata": {},
   "outputs": [
    {
     "name": "stdout",
     "output_type": "stream",
     "text": [
      "my lord the land shall good stand to to bown he so i prong to confere to to to the do so good with to may made have in not done in in have there pargo the lord the but and the the so fall what thee the could\n"
     ]
    }
   ],
   "source": [
    "sample_text(\"my lord\", 200, 0.5)"
   ]
  },
  {
   "cell_type": "code",
   "execution_count": 15,
   "metadata": {},
   "outputs": [
    {
     "data": {
      "text/plain": [
       "[<matplotlib.lines.Line2D at 0x197ab977fd0>]"
      ]
     },
     "execution_count": 15,
     "metadata": {},
     "output_type": "execute_result"
    },
    {
     "data": {
      "image/png": "[encoded data removed]",
      "text/plain": [
       "<Figure size 640x480 with 1 Axes>"
      ]
     },
     "metadata": {},
     "output_type": "display_data"
    }
   ],
   "source": [
    "import matplotlib.pyplot as plt\n",
    "for i in range(len(all_losses)):\n",
    "    all_losses[i]=all_losses[i].detach().item()\n",
    "plt.plot(all_losses)"
   ]
  },
  {
   "cell_type": "code",
   "execution_count": 16,
   "metadata": {},
   "outputs": [
    {
     "data": {
      "text/plain": [
       "1.9509494304656982"
      ]
     },
     "execution_count": 16,
     "metadata": {},
     "output_type": "execute_result"
    }
   ],
   "source": [
    "all_losses[-1]"
   ]
  },
  {
   "cell_type": "markdown",
   "metadata": {},
   "source": [
    "The training loss is quite noisy here. It appears to plateau around 1.9 to 1.95. The average loss over the last 10 epochs is 1.95."
   ]
  },
  {
   "cell_type": "markdown",
   "metadata": {},
   "source": [
    "Question 3 - Replace the RNN with a GRU"
   ]
  },
  {
   "cell_type": "code",
   "execution_count": 17,
   "metadata": {},
   "outputs": [],
   "source": [
    "class GRU(nn.Module):\n",
    "    def __init__(self, input_size, hidden_size, output_size, n_layers=1):\n",
    "        super(GRU, self).__init__()\n",
    "        self.input_size = input_size\n",
    "        self.hidden_size = hidden_size\n",
    "        self.output_size = output_size\n",
    "        self.n_layers = n_layers\n",
    "        \n",
    "        self.encoder = nn.Embedding(input_size, hidden_size)\n",
    "        self.gru = nn.GRU(hidden_size, hidden_size, n_layers)\n",
    "        self.decoder = nn.Linear(hidden_size, output_size)\n",
    "    \n",
    "    def forward(self, input, hidden):\n",
    "        input = self.encoder(input.view(1, -1))\n",
    "       \n",
    "        output, hidden = self.gru(input.view(1, 1, -1), hidden)\n",
    "        output = self.decoder(output.view(1, -1))\n",
    "        return output, hidden\n",
    "\n",
    "    def init_hidden(self):\n",
    "        return Variable(torch.zeros(self.n_layers, 1, self.hidden_size))"
   ]
  },
  {
   "cell_type": "code",
   "execution_count": 18,
   "metadata": {},
   "outputs": [],
   "source": [
    "def train_gru(inp, target):\n",
    "    hidden = decoder_gru.init_hidden()\n",
    "    decoder_gru.zero_grad()\n",
    "    loss = 0\n",
    "\n",
    "    for c in range(chunk_len):\n",
    "        output, hidden = decoder_gru(inp[c], hidden)\n",
    "        tar = torch.tensor([target[c].item()])\n",
    "        loss += criterion(output, tar)\n",
    "\n",
    "    loss.backward()\n",
    "    decoder_optimizer_gru.step()\n",
    "\n",
    "    return loss / chunk_len"
   ]
  },
  {
   "cell_type": "code",
   "execution_count": 19,
   "metadata": {},
   "outputs": [],
   "source": [
    "def evaluate_gru(prime_str='A', predict_len=100, temperature=0.9):\n",
    "    hidden = decoder_gru.init_hidden()\n",
    "    prime_input = char_tensor(prime_str)\n",
    "    predicted = prime_str\n",
    "\n",
    "    # Use priming string to \"build up\" hidden state\n",
    "    for p in range(len(prime_str) - 1):\n",
    "        _, hidden = decoder_gru(prime_input[p], hidden)\n",
    "    inp = prime_input[-1]\n",
    "    \n",
    "    for p in range(predict_len):\n",
    "        output, hidden = decoder_gru(inp, hidden)\n",
    "        \n",
    "        # Sample from the network as a multinomial distribution\n",
    "        output_dist = output.data.view(-1).div(temperature).exp()\n",
    "        top_i = torch.multinomial(output_dist, 1)[0]\n",
    "        \n",
    "        \n",
    "        # Add predicted character to string and use as next input\n",
    "        predicted_char = top_i.item()\n",
    "        predicted.append(predicted_char)\n",
    "        inp = torch.tensor([predicted_char])\n",
    "\n",
    "    return predicted"
   ]
  },
  {
   "cell_type": "code",
   "execution_count": 20,
   "metadata": {},
   "outputs": [
    {
     "name": "stdout",
     "output_type": "stream",
     "text": [
      "[(100 2%) 2.0844]\n",
      "whir of ler sterah adpiess catweless well sherme bak blous wim in of mertith seraver bathe to you wles \n",
      "\n",
      "[(200 4%) 2.0611]\n",
      "whwe some godling that o me have to hing allstionagos tod not urestich to the ulie grucure t eutheswha \n",
      "\n",
      "[(300 6%) 2.0215]\n",
      "whtut miyenger tunge may by fey thet you a my sto the i anouss i me see ever dere and that noventerfri \n",
      "\n",
      "[(400 8%) 2.0774]\n",
      "who dighe be there onspervevien agandnophall dood gerif in acd my me tere sloth shour the but sance se \n",
      "\n",
      "[(500 10%) 1.7604]\n",
      "why my lame correat queol do my what a mistne a mince mourt swonterat airs ay ham as athid i fidseonce \n",
      "\n",
      "[(600 12%) 1.9681]\n",
      "whort is wouls prelhatbod loke heed will geer what bindeld thou thou falland his is drengehif ance sin \n",
      "\n",
      "[(700 14%) 2.0262]\n",
      "whers mand oftill my caplan in deitior piver of to criver his could be it belive as swam to not with t \n",
      "\n",
      "[(800 16%) 2.1504]\n",
      "whow very and him will tall are as lovefore and ble gare whear why and bests do that ams him humpardsi \n",
      "\n",
      "[(900 18%) 2.1530]\n",
      "what with with not storsule i woairs nollaughat of the going hadi unst have trumpore hall she how so r \n",
      "\n",
      "[(1000 20%) 1.9450]\n",
      "why or partelffand forth vite have laise and hastor heart coptafiestit thoun part vervewre so the shad \n",
      "\n",
      "[(1100 22%) 1.9755]\n",
      "wh when himpict sweet prothand conuonesbutsby meethis con to some shew monsinea the will must him hafe \n",
      "\n",
      "[(1200 24%) 1.7910]\n",
      "whe and the king thater good and grneved ho and fecommerd what is in ormust whoseanto syour are i sher \n",
      "\n",
      "[(1300 26%) 1.9698]\n",
      "who doh though werzen in nightothourgelland don not fornurpait with love in ritlemeen see dorling as t \n",
      "\n",
      "[(1400 28%) 1.7853]\n",
      "what unneextal upto warrongrough this him whor ofheals in dight thoubpools as grownust meroctending re \n",
      "\n",
      "[(1500 30%) 1.8726]\n",
      "whyrandogo like on all thou down love a very seataffluse flenliard is most our on our fatlestands oul  \n",
      "\n",
      "[(1600 32%) 2.2022]\n",
      "wh the juch johw got you do moty this woulds peatt wore in patheer of my meaniu imillegraptioninofity  \n",
      "\n",
      "[(1700 34%) 1.8139]\n",
      "whose me should noble not your and this with misterducle my lightung from cink and nother inclucy meab \n",
      "\n",
      "[(1800 36%) 1.8796]\n",
      "what the hangy the have no me i sinter is no son the combatuerlong you hainter joriing your prowgoldii \n",
      "\n",
      "[(1900 38%) 1.9226]\n",
      "what uned grathusfrom scan gto relion gosmene my cisfe herefeld so play uppectie tit she sweet your de \n",
      "\n",
      "[(2000 40%) 1.7953]\n",
      "where prupend i praite the musincompround ipona would you usor o law her fise abtommayent tis him will \n",
      "\n",
      "[(2100 42%) 1.9733]\n",
      "what hereful but the will deytistung shall thou caell arrely poir consts mounservenflemter eyenferweed \n",
      "\n",
      "[(2200 44%) 1.7188]\n",
      "why tiderescome the brundshamcenetto if loxs be my shall whatf tooman lame is hone in you do by in to  \n",
      "\n",
      "[(2300 46%) 2.0771]\n",
      "whersir and this shink your are thou huse that sthellow thellowscend our palace a there of thmbehountl \n",
      "\n",
      "[(2400 48%) 1.8541]\n",
      "whom i heep of your denessins to courtexeunthere lady gread thy hard is for life mine for the fordesso \n",
      "\n",
      "[(2500 50%) 2.0009]\n",
      "what weeblet of young byrown for you we then me the furdamentwe assir will do i am befor as me to he w \n",
      "\n",
      "[(2600 52%) 1.9384]\n",
      "which the pardes say vour all feprestifustitias thee hood have speclanwinethat great my to that her go \n",
      "\n",
      "[(2700 54%) 1.8329]\n",
      "whose now if the faters oftaverius you instand let confed the day dist anyet acter in than be and me h \n",
      "\n",
      "[(2800 56%) 2.0175]\n",
      "wholdch of whe nichill if that a nottled the looke intomen atithere this pastifeding there have day it \n",
      "\n",
      "[(2900 57%) 1.7797]\n",
      "whose of the heath all he gige sweeting han be thou sit all folltand now dighternes house somiou sleig \n",
      "\n",
      "[(3000 60%) 1.9101]\n",
      "why this owncent but you prett hisas in of thoughtion wardhave would raind pieces freemercour the that \n",
      "\n",
      "[(3100 62%) 1.8166]\n",
      "whose the grat of our he ward chilge your grow not womy vildentthe watkill like purdyou folli age sie  \n",
      "\n",
      "[(3200 64%) 2.0324]\n",
      "why hels conwell veprousclume my spetto my lord in show my do me to roodfrillone and miphbers seaucand \n",
      "\n",
      "[(3300 66%) 1.8663]\n",
      "where in my love hered where a take saw be speethe to for a me with fair mine inlaudet and to to dine  \n",
      "\n",
      "[(3400 68%) 1.8895]\n",
      "whose i come vialy sir i ant a poorsard yourscene i with sit son a daring as your as all your for it c \n",
      "\n",
      "[(3500 70%) 1.7392]\n",
      "where us stumeledidowand you in a comwhow may disotdestervinds sirycomamon of recome at show spit thee \n",
      "\n",
      "[(3600 72%) 1.6109]\n",
      "where disme wanp mean may i soo maid thoughtey thei kee we that was you head this if heart prookthe fo \n",
      "\n",
      "[(3700 74%) 1.5948]\n",
      "who horsammand enit his spainighs thid mestruchainheathered bace me thou lords stricks twe courts my a \n",
      "\n",
      "[(3800 76%) 1.8012]\n",
      "whow life compher gitscates dayis my port thou do take yough a mongeibriomare which begethat how mest  \n",
      "\n",
      "[(3900 78%) 1.6743]\n",
      "where oncethemwith the featbutly tils i was frow confure againgain imbus you knock the childdandamor w \n",
      "\n",
      "[(4000 80%) 2.0046]\n",
      "which i many you coussflain so his would him dovesit a virt lords me thou their to sona knellat liveth \n",
      "\n",
      "[(4100 82%) 1.9802]\n",
      "why shall to begines hewshe had hast there his mair french your lady dissage why mills and carsone ill \n",
      "\n",
      "[(4200 84%) 1.9569]\n",
      "which of all art poute it i ding it hamwelt it a the cause the she bego he day my fellowongessbut her  \n",
      "\n",
      "[(4300 86%) 2.0870]\n",
      "whone to more a prain i would hings father aft a the godno datedfeed is are wethat thememethus thinks  \n",
      "\n",
      "[(4400 88%) 1.6563]\n",
      "whold rockill mainter i a he whilddeethends they seener the preoucehow a mistrestthissure with atto li \n",
      "\n",
      "[(4500 90%) 1.9091]\n",
      "what hand the shall shalks that son didbraild liohave but stall not that to such or of must his agains \n",
      "\n",
      "[(4600 92%) 1.9272]\n",
      "whother were for this so proves owring me the of yet wors to his should whor is a shalland to yet staf \n",
      "\n",
      "[(4700 94%) 1.8341]\n",
      "what gradas a rame each he with of you have ning his do but way of i duke you are and nothust a down b \n",
      "\n",
      "[(4800 96%) 1.8499]\n",
      "what it upon buck me may have so and servanat namion our no with the grein formanjackddest spoot my ni \n",
      "\n",
      "[(4900 98%) 1.8808]\n",
      "what seestake the comflegdbarcushard dound her frreep pois who duke comes now in three fary herras lov \n",
      "\n",
      "[(5000 100%) 1.7005]\n",
      "what gret would of had bade to glefess we that the showard wishiph have againseach i she call my dif h \n",
      "\n"
     ]
    }
   ],
   "source": [
    "decoder_gru = GRU(n_characters, hidden_size, n_characters, n_layers)\n",
    "decoder_optimizer_gru = torch.optim.Adam (decoder_gru.parameters(), lr=lr)\n",
    "criterion = nn.CrossEntropyLoss()\n",
    "\n",
    "all_losses = []\n",
    "loss_avg = 0\n",
    "\n",
    "for epoch in range(1, n_epochs + 1):\n",
    "    loss = train_gru(*random_training_set())       \n",
    "    loss_avg += loss\n",
    "\n",
    "    if epoch % print_every == 0:\n",
    "        print('[(%d %d%%) %.4f]' % (epoch, epoch / n_epochs * 100, loss))\n",
    "        starting_text = [int(char_to_idx[char]) for char in \"wh\"]\n",
    "        encoded_text = evaluate_gru(starting_text, 100)\n",
    "        decoded_text = [idx_to_char[encoded_text[i]] for i in range(len(encoded_text))]\n",
    "        print(''.join([str(element) for element in decoded_text]), \"\\n\")\n",
    "\n",
    "    if epoch % plot_every == 0:\n",
    "        all_losses.append(loss_avg / plot_every)\n",
    "        loss_avg = 0"
   ]
  },
  {
   "cell_type": "markdown",
   "metadata": {},
   "source": [
    "Here are some examples after training the GRU. It looks to me as if there are more proper English words here, and some natable longer words. Also, I noticed there are some character names from the play \"Coriolanus\" here which is interesting. "
   ]
  },
  {
   "cell_type": "code",
   "execution_count": 21,
   "metadata": {},
   "outputs": [],
   "source": [
    "def sample_text_gru(starting_text, length, temp):\n",
    "    test = evaluate_gru([char_to_idx[starting_text[i]] for i in range(len(starting_text))], length, temp)\n",
    "    test1 = [idx_to_char[test[i]] for i in range(len(test))]\n",
    "    readableTest = ''.join([str(element) for element in test1 ])\n",
    "    print(readableTest)\n",
    "    return None"
   ]
  },
  {
   "cell_type": "code",
   "execution_count": 22,
   "metadata": {},
   "outputs": [
    {
     "name": "stdout",
     "output_type": "stream",
     "text": [
      "the lord that the know had the poor that but be could this pleasing are that be me thank thee entrient the renences the pater be he comes comperin coridisthe do has and the will pity and he will that with the\n"
     ]
    }
   ],
   "source": [
    "sample_text_gru(\"the lord\", 200, 0.5)"
   ]
  },
  {
   "cell_type": "code",
   "execution_count": 23,
   "metadata": {},
   "outputs": [
    {
     "name": "stdout",
     "output_type": "stream",
     "text": [
      "hath i have he will the care that chardy when the word how the will they parin the can the will hath that i princenter wideshe prepenter i call the will this the will that thou be and the will them so the\n"
     ]
    }
   ],
   "source": [
    "sample_text_gru(\"hath\", 200, 0.5)"
   ]
  },
  {
   "cell_type": "code",
   "execution_count": 24,
   "metadata": {},
   "outputs": [
    {
     "name": "stdout",
     "output_type": "stream",
     "text": [
      "thou know what with the king of had brothand the king that and i comes do is the will the prince power the contle the king which that the promand he woman made this made the compell the pring strease he c\n"
     ]
    }
   ],
   "source": [
    "sample_text_gru(\"thou\", 200, 0.5)"
   ]
  },
  {
   "cell_type": "code",
   "execution_count": 25,
   "metadata": {},
   "outputs": [
    {
     "name": "stdout",
     "output_type": "stream",
     "text": [
      "shall not that made be gentle me the poor the paisand be graces the prother that the pray that his repheal the storts then ill been we was by his people that that the brotherwhich the is and the that be gentle\n"
     ]
    }
   ],
   "source": [
    "sample_text_gru(\"shall not\", 200, 0.5)"
   ]
  },
  {
   "cell_type": "code",
   "execution_count": 26,
   "metadata": {},
   "outputs": [
    {
     "name": "stdout",
     "output_type": "stream",
     "text": [
      "pray brawhere poor gentleman the fine the prate enter not he traints and than the prince i had the she partsand the words the will be do with have what the be dissand be brooth be despect that be peens th\n"
     ]
    }
   ],
   "source": [
    "sample_text_gru(\"pray\", 200, 0.5)"
   ]
  },
  {
   "cell_type": "code",
   "execution_count": 27,
   "metadata": {},
   "outputs": [
    {
     "name": "stdout",
     "output_type": "stream",
     "text": [
      "straight the play the will master kinghis bless i be marghthat the worsif henfeath the paros that make the poor and did that the presents ward poor the contrain have what thou so whose the call in thee peatss\n"
     ]
    }
   ],
   "source": [
    "sample_text_gru(\"straight\", 200, 0.5)"
   ]
  },
  {
   "cell_type": "code",
   "execution_count": 28,
   "metadata": {},
   "outputs": [
    {
     "data": {
      "text/plain": [
       "[<matplotlib.lines.Line2D at 0x197ab9a3090>]"
      ]
     },
     "execution_count": 28,
     "metadata": {},
     "output_type": "execute_result"
    },
    {
     "data": {
      "image/png": "[encoded data removed]",
      "text/plain": [
       "<Figure size 640x480 with 1 Axes>"
      ]
     },
     "metadata": {},
     "output_type": "display_data"
    }
   ],
   "source": [
    "for i in range(len(all_losses)):\n",
    "    all_losses[i]=all_losses[i].detach().item()\n",
    "plt.plot(all_losses)"
   ]
  },
  {
   "cell_type": "markdown",
   "metadata": {},
   "source": [
    "Using the GRU model, the training loss remains quite noisy, but appears to be lower than when the vanilla RNN was trained (it appears to plateau around 1.85 instead of 1.95). The average loss over the last 10 epochs was 1.798."
   ]
  },
  {
   "cell_type": "code",
   "execution_count": 29,
   "metadata": {},
   "outputs": [
    {
     "data": {
      "text/plain": [
       "1.797696828842163"
      ]
     },
     "execution_count": 29,
     "metadata": {},
     "output_type": "execute_result"
    }
   ],
   "source": [
    "all_losses[-1]"
   ]
  },
  {
   "cell_type": "markdown",
   "metadata": {},
   "source": [
    "Question 4 - Done on a transcript of football night in America"
   ]
  },
  {
   "cell_type": "code",
   "execution_count": 32,
   "metadata": {},
   "outputs": [],
   "source": [
    "# Prepare the data\n",
    "\n",
    "filename = 'footballtranscript.txt'\n",
    "with open(filename, encoding=\"utf8\") as f:\n",
    "    text = f.read()\n",
    "\n",
    "raw_dataset = ' '.join(re.sub('[^A-Za-z ]+', '', text).lower().split())\n",
    "idx_to_char = list(set(raw_dataset))\n",
    "char_to_idx = dict([(char, i) for i, char in enumerate(idx_to_char)])\n",
    "text_idx = [char_to_idx[char] for char in raw_dataset]\n",
    "n_characters = len(idx_to_char)\n",
    "\n",
    "text_len = len(text_idx)"
   ]
  },
  {
   "cell_type": "code",
   "execution_count": 35,
   "metadata": {},
   "outputs": [
    {
     "name": "stdout",
     "output_type": "stream",
     "text": [
      "[(100 10%) 1.7917]\n",
      "whren the that what id thine ke ait mee the fot to the fill lody sully bow wurppreach the homill and t \n",
      "\n",
      "[(200 20%) 1.6932]\n",
      "wht think to in foother going and tasube onted thingo the guess ntill reall a rome the a plemarter i d \n",
      "\n",
      "[(300 30%) 1.3682]\n",
      "what or on the comering foing the upsolut thirstich conirk in every elly to sieding to yuns and night  \n",
      "\n",
      "[(400 40%) 1.3951]\n",
      "whes away for the showst and caronvolve shought the shing groding to nighation in and when youc did on \n",
      "\n",
      "[(500 50%) 1.3176]\n",
      "whonn pust a lot int of to becaue part told out a but me our durgy i dids and in but the beintirico it \n",
      "\n",
      "[(600 60%) 1.4327]\n",
      "whry what ever it there and better them if you i wags you gamerodney miking young in the other but for \n",
      "\n",
      "[(700 70%) 1.4844]\n",
      "who it imboring tirco and they all olive to everybody neso side with uper bot in a ppersigige they he  \n",
      "\n",
      "[(800 80%) 1.2501]\n",
      "whed running the second pall rove secod hom and they at the seecly sayer had as prosuple treasit surpr \n",
      "\n",
      "[(900 90%) 1.6300]\n",
      "whick they produscomallengy play froming there it wall bmoats i poinity the yearing the day that play  \n",
      "\n",
      "[(1000 100%) 1.0699]\n",
      "wholy football and to when in a last youd was and the couspind envieptondous what undel a seentounes i \n",
      "\n"
     ]
    }
   ],
   "source": [
    "decoder_gru = GRU(n_characters, hidden_size, n_characters, n_layers)\n",
    "decoder_optimizer_gru = torch.optim.Adam (decoder_gru.parameters(), lr=lr)\n",
    "criterion = nn.CrossEntropyLoss()\n",
    "\n",
    "all_losses = []\n",
    "loss_avg = 0\n",
    "n_epochs = 1000\n",
    "\n",
    "for epoch in range(1, n_epochs + 1):\n",
    "    loss = train_gru(*random_training_set())       \n",
    "    loss_avg += loss\n",
    "\n",
    "    if epoch % print_every == 0:\n",
    "        print('[(%d %d%%) %.4f]' % (epoch, epoch / n_epochs * 100, loss))\n",
    "        starting_text = [int(char_to_idx[char]) for char in \"wh\"]\n",
    "        encoded_text = evaluate_gru(starting_text, 100)\n",
    "        decoded_text = [idx_to_char[encoded_text[i]] for i in range(len(encoded_text))]\n",
    "        print(''.join([str(element) for element in decoded_text]), \"\\n\")\n",
    "\n",
    "    if epoch % plot_every == 0:\n",
    "        all_losses.append(loss_avg / plot_every)\n",
    "        loss_avg = 0"
   ]
  },
  {
   "cell_type": "markdown",
   "metadata": {},
   "source": [
    "When using this smaller dataset (about 30kB instead of 5.5MB), we produce more coherent text and have a much lower training loss. The sentences do not make sense, but nmost words are real words, and there are some long words, like \"opportunity\".  In the samples below, there are many football terms present including \"NFL\", \"super bowl\", \"start\", \"quarterback\" \"sunday\", some player or analyst names (like tony dungy, tirico, belichich, rodney). Also some broadcast terms like \"studio\" and \"station\" are present."
   ]
  },
  {
   "cell_type": "code",
   "execution_count": 36,
   "metadata": {},
   "outputs": [
    {
     "name": "stdout",
     "output_type": "stream",
     "text": [
      "quarterback and the studio i look for me are was and that tell be and the part of the preseason and the probably so and masts show were jone you have to defenses and a couple with and the first of the guy wi\n"
     ]
    }
   ],
   "source": [
    "sample_text_gru(\"quarter\", 200, 0.5)"
   ]
  },
  {
   "cell_type": "code",
   "execution_count": 38,
   "metadata": {},
   "outputs": [
    {
     "name": "stdout",
     "output_type": "stream",
     "text": [
      "sunday night and the lot a was and there and to for me just and there and the formaris and to be at they are super been week and that we arenth not of them the arento be and to be a clead the seen there goi\n"
     ]
    }
   ],
   "source": [
    "sample_text_gru(\"sunday\", 200, 0.5)"
   ]
  },
  {
   "cell_type": "code",
   "execution_count": 47,
   "metadata": {},
   "outputs": [
    {
     "name": "stdout",
     "output_type": "stream",
     "text": [
      "football be and a be in the number of the nfl and think it work in a going to sto the great defenves to be a lot of for me with the not on the fort and and lats on the show to be a couple great and hes go\n"
     ]
    }
   ],
   "source": [
    "sample_text_gru(\"foot\", 200, 0.5)"
   ]
  },
  {
   "cell_type": "code",
   "execution_count": 48,
   "metadata": {},
   "outputs": [
    {
     "name": "stdout",
     "output_type": "stream",
     "text": [
      "tony dungy hes defensese were great for the back to be a chance to be a the probably the for mike the forment of they have the fact and then in the the preseason at one what were great steal had not of th\n"
     ]
    }
   ],
   "source": [
    "sample_text_gru(\"tony\", 200, 0.5)"
   ]
  },
  {
   "cell_type": "code",
   "execution_count": 41,
   "metadata": {},
   "outputs": [
    {
     "name": "stdout",
     "output_type": "stream",
     "text": [
      "football and a super bob a great show in and the seen week and mike in a great a supt one a super bowl had the they are the time to the preciatent and the need to be a great football and a sunday night and th\n"
     ]
    }
   ],
   "source": [
    "sample_text_gru(\"football\", 200, 0.5)"
   ]
  },
  {
   "cell_type": "code",
   "execution_count": 60,
   "metadata": {},
   "outputs": [
    {
     "name": "stdout",
     "output_type": "stream",
     "text": [
      "belichick in the fired about the nfl the nfl the new the prectain a great show in the are the fund the arolon and i worked to for me and the in the seen the the not chris for me how us going to be a great \n"
     ]
    }
   ],
   "source": [
    "sample_text_gru(\"belic\", 200, 0.5)"
   ]
  },
  {
   "cell_type": "code",
   "execution_count": 61,
   "metadata": {},
   "outputs": [
    {
     "name": "stdout",
     "output_type": "stream",
     "text": [
      "act the say the studio and the the studio be about the first for mike in a really as how a football and really group it sunday and there going to for me we think its the studio realy and that has the b\n"
     ]
    }
   ],
   "source": [
    "sample_text_gru(\"a\", 200, 0.5)"
   ]
  },
  {
   "cell_type": "code",
   "execution_count": 64,
   "metadata": {},
   "outputs": [
    {
     "data": {
      "text/plain": [
       "[<matplotlib.lines.Line2D at 0x197a85d2890>]"
      ]
     },
     "execution_count": 64,
     "metadata": {},
     "output_type": "execute_result"
    },
    {
     "data": {
      "image/png": "[encoded data removed]",
      "text/plain": [
       "<Figure size 640x480 with 1 Axes>"
      ]
     },
     "metadata": {},
     "output_type": "display_data"
    }
   ],
   "source": [
    "#for i in range(len(all_losses)):\n",
    "    #all_losses[i]=all_losses[i].detach().item()\n",
    "plt.plot(all_losses)"
   ]
  },
  {
   "cell_type": "code",
   "execution_count": 46,
   "metadata": {},
   "outputs": [
    {
     "data": {
      "text/plain": [
       "1.2461650371551514"
      ]
     },
     "execution_count": 46,
     "metadata": {},
     "output_type": "execute_result"
    }
   ],
   "source": [
    "all_losses[-1]"
   ]
  },
  {
   "cell_type": "markdown",
   "metadata": {},
   "source": [
    "The training loss is still noisy, but is clearly much lower, plateauing around 1.25 (instead of 1.8 in the Shakespeare case). The average training loss is much lower over the last 10 epochs than with the Shakespeare dataset, at 1.25"
   ]
  }
 ],
 "metadata": {
  "colab": {
   "provenance": []
  },
  "kernelspec": {
   "display_name": "Python 3 (ipykernel)",
   "language": "python",
   "name": "python3"
  },
  "language_info": {
   "codemirror_mode": {
    "name": "ipython",
    "version": 3
   },
   "file_extension": ".py",
   "mimetype": "text/x-python",
   "name": "python",
   "nbconvert_exporter": "python",
   "pygments_lexer": "ipython3",
   "version": "3.11.5"
  }
 },
 "nbformat": 4,
 "nbformat_minor": 4
}
